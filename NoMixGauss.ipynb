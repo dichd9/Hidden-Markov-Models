{
 "cells": [
  {
   "cell_type": "markdown",
   "metadata": {},
   "source": [
    "## Continuous Output HMM parameter Estimation\n",
    "\n",
    "Here we assume discrete states with gaussian output. We simulate such an HMM to generate observation data. Then we apply KL clustering to have an initial estimate of the parameters. Applying EM refines the estimates and then we again simulate our trained and original HMM. We plot the histogram of the two and they match quite well"
   ]
  },
  {
   "cell_type": "code",
   "execution_count": 1,
   "metadata": {},
   "outputs": [],
   "source": [
    "import numpy as np\n",
    "from math import *\n",
    "import matplotlib.pyplot as plt\n",
    "\n",
    "import pandas as pd\n",
    "import random\n",
    "from sklearn.cluster import KMeans"
   ]
  },
  {
   "cell_type": "markdown",
   "metadata": {},
   "source": [
    "Defining Classes for HMM, and the FB and EM algorithm"
   ]
  },
  {
   "cell_type": "code",
   "execution_count": 3,
   "metadata": {},
   "outputs": [],
   "source": [
    "class State(object):\n",
    "    \n",
    "    def __init__(self, D=1):\n",
    "        \n",
    "        self.μ=np.zeros(D)\n",
    "        self.σ=np.identity(D)\n",
    "        self.D=D\n",
    "        \n",
    "    def P(self, x):\n",
    "        \n",
    "        if np.linalg.det(self.σ)<=0:\n",
    "            return -500\n",
    "        return -0.5*np.linalg.multi_dot([np.transpose(x-self.μ), np.linalg.inv(self.σ), x-self.μ])\n",
    "    \n",
    "    \n",
    "    def sim(self):\n",
    "        \n",
    "        return np.random.multivariate_normal(self.μ, self.σ) "
   ]
  },
  {
   "cell_type": "code",
   "execution_count": 4,
   "metadata": {},
   "outputs": [],
   "source": [
    "class HMM(object):\n",
    "    \n",
    "    def __init__(self):\n",
    "        \n",
    "        self.States=[]\n",
    "        self.A=np.zeros(1)\n",
    "        self.p=np.zeros(1)\n",
    "        self.Current=0\n",
    "        \n",
    "    \n",
    "    def f(self, O):\n",
    "        \n",
    "        d=len(O)\n",
    "        N=len(self.States)\n",
    "        α=np.zeros([N, d])\n",
    "        \n",
    "        \n",
    "        for i in range(N):\n",
    "            \n",
    "            if self.p[i]!=0:\n",
    "                \n",
    "                α[i, 0]=log(self.p[i])+self.States[i].P(O[0])\n",
    "                \n",
    "            else:\n",
    "                \n",
    "                α[i, 0]=-500\n",
    "        \n",
    "\n",
    "        for t in range(1, d):\n",
    "            \n",
    "            for i in range(N):\n",
    "\n",
    "                for j in range(N):\n",
    "                    \n",
    "                    if α[j, t-1]>-500:\n",
    "\n",
    "                        α[i, t]+=exp(α[j, t-1]) * self.A[j, i] * exp(self.States[i].P(O[t]))\n",
    "                        \n",
    "                  \n",
    "                if α[i, t]!=0:\n",
    "                    \n",
    "                    α[i, t]=log(α[i, t])\n",
    "                    \n",
    "                else:\n",
    "                    \n",
    "                    α[i, t]=-500\n",
    "                \n",
    "                    \n",
    "        return α\n",
    "    \n",
    "    def r(self, O):\n",
    "        \n",
    "        d=len(O)\n",
    "        N=len(self.States)\n",
    "        β=np.zeros([N, d])\n",
    "        \n",
    "        for i in range(N):\n",
    "            \n",
    "            β[i, d-1]=0\n",
    "        \n",
    "        for nt in range(0, d-1):\n",
    "            \n",
    "            t=d-nt-1\n",
    "            \n",
    "            for i in range(N):\n",
    "\n",
    "                for j in range(N):\n",
    "                    \n",
    "                    if β[i, t-1]>-500:\n",
    "                        \n",
    "                        β[i, t-1]+=exp(β[j, t])*self.A[i, j]*exp(self.States[j].P(O[t]))\n",
    "                        \n",
    "        \n",
    "                    \n",
    "                if β[i, t-1]!=0:\n",
    "                    \n",
    "                    β[i, t-1]=log(β[i, t-1])\n",
    "                    \n",
    "                else:\n",
    "                    \n",
    "                    β[i, t-1]=-500\n",
    "                    \n",
    "        return β\n",
    "    \n",
    "    \n",
    "    def gamma(self, O):\n",
    "        \n",
    "        α=self.f(O)\n",
    "        β=self.r(O)\n",
    "        d=len(O)\n",
    "        N=len(self.States)\n",
    "        γ=np.zeros([N, d])\n",
    "\n",
    "        \n",
    "        for t in range(d):\n",
    "            \n",
    "            s=0\n",
    "            \n",
    "            for i in range(N):\n",
    "                \n",
    "                a=α[i, t]+β[i, t]\n",
    "                γ[i, t]=np.exp(a)\n",
    "                s+=γ[i, t]\n",
    "                \n",
    "                \n",
    "            if s==0:\n",
    "                for i in range(N):\n",
    "                    γ[i, t]=log(1/N)\n",
    "                \n",
    "            if s!=0:\n",
    "                \n",
    "                for i in range(N):\n",
    "                    if γ[i, t]==0:\n",
    "                        γ[i, t]=-500\n",
    "                    else:\n",
    "                        γ[i, t]=log(γ[i, t]/s)\n",
    "                \n",
    "        return γ\n",
    "    \n",
    "    \n",
    "    def xi(self, O):\n",
    "        \n",
    "        α=self.f(O)\n",
    "        β=self.r(O)\n",
    "        \n",
    "        d=len(O)\n",
    "        N=len(self.States)\n",
    "        \n",
    "        ξ=np.zeros([N, N, d-1])\n",
    "        \n",
    "        \n",
    "        for t in range(d-1):\n",
    "            \n",
    "           \n",
    "            s=0\n",
    "            for i in range(N):\n",
    "                \n",
    "                for j in range(N):\n",
    "        \n",
    "                    if self.A[i, j] == 0:\n",
    "                \n",
    "                        a=-500\n",
    "                    else:\n",
    "                        a=α[i, t]+log(self.A[i, j])+self.States[j].P(O[t+1])+(β[j, t+1])\n",
    "                        ξ[i, j, t]=a\n",
    "                        s+=np.exp(a)\n",
    "                    \n",
    "              \n",
    "            \n",
    "            if s==0:\n",
    "                ξ[:, :, t]=-500\n",
    "            if s!=0:\n",
    "                for i in range(N):\n",
    "                    for j in range(N):\n",
    "                        ξ[i, j, t]=ξ[i, j, t]-log(s)\n",
    "            \n",
    "        return ξ\n",
    "    \n",
    "    def sim(self):\n",
    "        \n",
    "        TrP=self.A[self.Current]\n",
    "        Next=np.arange(len(self.States))\n",
    "        nextIndex=np.random.choice(Next, p=TrP)\n",
    "        \n",
    "        self.Current=nextIndex\n",
    "        \n",
    "        return self.States[self.Current].sim(), self.Current\n",
    "    \n",
    "    def printx(self):\n",
    "        \n",
    "        print(self.p)\n",
    "        print(self.A)\n",
    "        print()\n",
    "        \n",
    "        N=len(self.States)\n",
    "        \n",
    "        for i in range(N):\n",
    "     \n",
    "            print('State '+str(i+1)+':')\n",
    "            print(self.States[i].μ)\n",
    "            print(self.States[i].σ)\n",
    "            \n",
    "        print()\n",
    "        print()\n",
    "        print()\n",
    "    \n",
    "    \n",
    "    def EM(self, O):\n",
    "        \n",
    "        T=len(O)\n",
    "        D=len(O[0])\n",
    "        N=len(self.States)\n",
    "        \n",
    "        α=np.exp(self.f(O))\n",
    "        β=np.exp(self.r(O))\n",
    "        γ=np.exp(self.gamma(O))\n",
    "        ξ=np.exp(self.xi(O))\n",
    "        V=self.Viterbi(O)\n",
    "        \n",
    "        #To be estimated paras\n",
    "        μs=np.zeros([N, D])\n",
    "        σs=np.zeros([N, D, D])\n",
    "        A=np.zeros([N, N])\n",
    "        p=np.zeros(N)\n",
    "        \n",
    "        #Estimating means\n",
    "        for i in range(N):\n",
    "            \n",
    "            s=0\n",
    "            for t in range(T):\n",
    "                \n",
    "                if V[t]==i:\n",
    "                    μs[i]+=γ[i, t]*O[t]\n",
    "                    s+=γ[i, t]\n",
    "                \n",
    "            μs[i]=μs[i]/s\n",
    "            \n",
    "        #Estimating variances    \n",
    "        for i in range(N):\n",
    "            \n",
    "            s=0\n",
    "            for t in range(T):\n",
    "                \n",
    "                if V[t]==i:\n",
    "                    e=O[t]-μs[i]\n",
    "                    σs[i]+=γ[i, t]*np.outer(e, e)\n",
    "                    s+=γ[i, t]\n",
    "                \n",
    "            σs[i]=σs[i]/s\n",
    "            \n",
    "        #Estimating transisiton Matrix\n",
    "        for i in range(N):\n",
    "            \n",
    "            s=0\n",
    "            for j in range(N):\n",
    "                \n",
    "                for t in range(T-1):\n",
    "                    \n",
    "                    A[i, j]+=ξ[i, j, t]\n",
    "                    s+=ξ[i, j, t]\n",
    "                    \n",
    "                    \n",
    "            A[i, :]=A[i, :]/s\n",
    "            \n",
    "        \n",
    "        #Estimating p\n",
    "        p=γ[:, 0]\n",
    "        \n",
    "        self.A=A\n",
    "        #self.p=p\n",
    "        \n",
    "        for i in range(N):\n",
    "            \n",
    "            self.States[i].μ=μs[i]\n",
    "            self.States[i].σ=σs[i]\n",
    "        \n",
    "    def Pval(self, O):\n",
    "        \n",
    "        α=self.f(O)\n",
    "        \n",
    "        return sum(np.exp(α[:, -1]))\n",
    "    \n",
    "    \n",
    "    def Viterbi(self, O):\n",
    "        \n",
    "        γ=np.exp(self.gamma(O))\n",
    "        \n",
    "        V=[]\n",
    "        N=len(self.States)\n",
    "        for t in range(len(O)):\n",
    "            \n",
    "            o=O[t]\n",
    "            \n",
    "            Ps=[]\n",
    "            pmax=0\n",
    "            j=0\n",
    "            for i in range(N):\n",
    "                p=np.exp(self.States[i].P(o))\n",
    "                \n",
    "                if p>pmax:\n",
    "                    pmax=p\n",
    "                    j=i\n",
    "                \n",
    "            V.append(j)\n",
    "        return V"
   ]
  },
  {
   "cell_type": "markdown",
   "metadata": {},
   "source": [
    "Building an HMM and simulating it"
   ]
  },
  {
   "cell_type": "code",
   "execution_count": 5,
   "metadata": {},
   "outputs": [],
   "source": [
    "A=State(3)\n",
    "B=State(3)\n",
    "\n",
    "\n",
    "A.μ=np.array([10, 10, -10])\n",
    "A.σ=np.array([[1, 0, 0], [0, 1, 0], [0, 0, 1]])\n",
    "\n",
    "\n",
    "B.μ=np.array([-10, -10, 10])\n",
    "B.σ=np.array([[3, 0, 0], [0, 3, 0], [0, 0, 3]])\n",
    "\n",
    "\n",
    "C=HMM()\n",
    "C.States=[A, B]\n",
    "C.A=np.array([[0.4, 0.6], [0.5, 0.5]])\n",
    "C.p=np.array([0.5, 0.5])"
   ]
  },
  {
   "cell_type": "code",
   "execution_count": 6,
   "metadata": {},
   "outputs": [],
   "source": [
    "O=[]\n",
    "S=[]\n",
    "for i in range(1000):\n",
    "    o, s=C.sim()\n",
    "    O.append(o)\n",
    "    S.append(s)\n",
    "    \n",
    "O=np.array(O)\n",
    "Otrain=np.array(O[:100])\n",
    "\n",
    "    "
   ]
  },
  {
   "cell_type": "code",
   "execution_count": 8,
   "metadata": {},
   "outputs": [
    {
     "data": {
      "image/png": "[encoded data removed]",
      "text/plain": [
       "<Figure size 432x288 with 1 Axes>"
      ]
     },
     "metadata": {},
     "output_type": "display_data"
    },
    {
     "data": {
      "image/png": "[encoded data removed]",
      "text/plain": [
       "<Figure size 432x288 with 1 Axes>"
      ]
     },
     "metadata": {},
     "output_type": "display_data"
    },
    {
     "data": {
      "image/png": "[encoded data removed]",
      "text/plain": [
       "<Figure size 432x288 with 1 Axes>"
      ]
     },
     "metadata": {},
     "output_type": "display_data"
    }
   ],
   "source": [
    "plt.style.use('dark_background')\n",
    "plt.hist(O[:, 0], 100, color='blue')\n",
    "plt.xlabel('X')\n",
    "plt.ylabel('frequency')\n",
    "plt.grid(False)\n",
    "plt.savefig('ContGauss_x1_sim.png', transparent=True, dpi=600)\n",
    "plt.show()\n",
    "\n",
    "plt.hist(O[:, 1], 100, color='lime')\n",
    "plt.xlabel('X')\n",
    "plt.ylabel('frequency')\n",
    "plt.grid(False)\n",
    "plt.savefig('ContGauss_x2_sim.png', transparent=True, dpi=600)\n",
    "plt.show()\n",
    "\n",
    "plt.hist(O[:, 2], 100, color='magenta')\n",
    "plt.xlabel('X')\n",
    "plt.ylabel('frequency')\n",
    "plt.grid(False)\n",
    "plt.savefig('ContGauss_x3_sim.png', transparent=True, dpi=600)\n",
    "plt.show()\n",
    "\n"
   ]
  },
  {
   "cell_type": "markdown",
   "metadata": {},
   "source": [
    "Applying K Means Clustering to have an initial estimate, simulating it and plotting the histogram"
   ]
  },
  {
   "cell_type": "code",
   "execution_count": 12,
   "metadata": {},
   "outputs": [],
   "source": [
    "kmeans=KMeans(n_clusters=2)\n",
    "df = pd.DataFrame(O[300:325], columns = ['1','2','3'])\n",
    "kmeans=kmeans.fit(df)\n",
    "labels=kmeans.predict(df)\n",
    "\n",
    "Oa=[]\n",
    "Ob=[]\n",
    "\n",
    "for i in range(len(labels[:50])):\n",
    "    \n",
    "    l=labels[i]\n",
    "    \n",
    "    if l==0:\n",
    "        Oa.append(O[i])\n",
    "        \n",
    "    if l==1:\n",
    "        Ob.append(O[i])\n",
    "        \n",
    "Oa=np.transpose(np.array(Oa))\n",
    "Ob=np.transpose(np.array(Ob))\n",
    "\n",
    "σpa=np.cov(Oa)\n",
    "σpb=np.cov(Ob)\n",
    "\n",
    "μsa=np.array([np.mean(Oa[0, :]), np.mean(Oa[1, :]), np.mean(Oa[2, :])])\n",
    "μsb=np.array([np.mean(Ob[0, :]), np.mean(Ob[1, :]), np.mean(Ob[2, :])])"
   ]
  },
  {
   "cell_type": "code",
   "execution_count": 13,
   "metadata": {},
   "outputs": [
    {
     "name": "stdout",
     "output_type": "stream",
     "text": [
      "[0.2 0.8]\n",
      "[[0.2 0.8]\n",
      " [0.8 0.2]]\n",
      "\n",
      "State 1:\n",
      "[-5.73046944 -5.05485601  5.50054183]\n",
      "[[ 73.6186335   71.95491669 -69.05044782]\n",
      " [ 71.95491669  72.57856834 -67.45931867]\n",
      " [-69.05044782 -67.45931867  73.48077244]]\n",
      "State 2:\n",
      "[ 3.10743824  2.64199163 -3.24115394]\n",
      "[[ 103.13100611   98.13228513 -103.24419618]\n",
      " [  98.13228513   98.00967647  -99.84129542]\n",
      " [-103.24419618  -99.84129542  105.4201623 ]]\n",
      "\n",
      "\n",
      "\n"
     ]
    }
   ],
   "source": [
    "A2=State(3)\n",
    "B2=State(3)\n",
    "\n",
    "\n",
    "A2.μ=μsa\n",
    "A2.σ=σpa\n",
    "\n",
    "B2.μ=μsb\n",
    "B2.σ=σpb\n",
    "\n",
    "C2=HMM()\n",
    "C2.States=[A2, B2]\n",
    "C2.A=np.array([[0.2, 0.8], [0.8, 0.2]])\n",
    "C2.p=np.array([0.2, 0.8])\n",
    "\n",
    "C2.printx()"
   ]
  },
  {
   "cell_type": "code",
   "execution_count": 14,
   "metadata": {},
   "outputs": [],
   "source": [
    "O2=[]\n",
    "S2=[]\n",
    "for i in range(1000):\n",
    "    o2, s2=C2.sim()\n",
    "    O2.append(o2)\n",
    "    S2.append(s2)\n",
    "    \n",
    "O2=np.array(O2)\n"
   ]
  },
  {
   "cell_type": "code",
   "execution_count": 15,
   "metadata": {},
   "outputs": [
    {
     "data": {
      "image/png": "[encoded data removed]",
      "text/plain": [
       "<Figure size 432x288 with 1 Axes>"
      ]
     },
     "metadata": {},
     "output_type": "display_data"
    },
    {
     "data": {
      "image/png": "[encoded data removed]",
      "text/plain": [
       "<Figure size 432x288 with 1 Axes>"
      ]
     },
     "metadata": {},
     "output_type": "display_data"
    },
    {
     "data": {
      "image/png": "[encoded data removed]",
      "text/plain": [
       "<Figure size 432x288 with 1 Axes>"
      ]
     },
     "metadata": {},
     "output_type": "display_data"
    }
   ],
   "source": [
    "plt.style.use('dark_background')\n",
    "\n",
    "plt.hist(O2[:, 0], 100, color='aqua')\n",
    "plt.hist(O[:1000, 0], 100, color='blue')\n",
    "plt.xlabel('X')\n",
    "plt.ylabel('frequency')\n",
    "plt.grid(False)\n",
    "plt.legend(['Estimated', 'Actual'], loc=1)\n",
    "plt.savefig('ContGauss_x1_est1.png', transparent=True, dpi=600)\n",
    "plt.show()\n",
    "\n",
    "plt.hist(O2[:, 1], 100, color='darkgreen')\n",
    "plt.hist(O[:1000, 1], 100, color='lime')\n",
    "plt.xlabel('X')\n",
    "plt.ylabel('frequency')\n",
    "plt.grid(False)\n",
    "plt.legend(['Estimated', 'Actual'], loc=1)\n",
    "plt.savefig('ContGauss_x2_est1.png', transparent=True, dpi=600)\n",
    "plt.show()\n",
    "\n",
    "plt.hist(O2[:, 2], 100, color='deeppink')\n",
    "plt.hist(O[:1000, 2], 100, color='magenta')\n",
    "plt.xlabel('X')\n",
    "plt.ylabel('frequency')\n",
    "plt.grid(False)\n",
    "plt.legend(['Estimated', 'Actual'], loc=1)\n",
    "plt.savefig('ContGauss_x3_est1.png', transparent=True, dpi=600)\n",
    "plt.show()"
   ]
  },
  {
   "cell_type": "markdown",
   "metadata": {},
   "source": [
    "Now we train this with EM algorithm, and simulate and plot histograms"
   ]
  },
  {
   "cell_type": "code",
   "execution_count": 16,
   "metadata": {},
   "outputs": [],
   "source": [
    "for i in range(10):\n",
    "    C2.EM(O[:500])"
   ]
  },
  {
   "cell_type": "code",
   "execution_count": 17,
   "metadata": {},
   "outputs": [],
   "source": [
    "O2=[]\n",
    "S2=[]\n",
    "for i in range(1000):\n",
    "    o2, s2=C2.sim()\n",
    "    O2.append(o2)\n",
    "    S2.append(s2)\n",
    "    \n",
    "O2=np.array(O2)\n"
   ]
  },
  {
   "cell_type": "code",
   "execution_count": 18,
   "metadata": {},
   "outputs": [
    {
     "data": {
      "image/png": "[encoded data removed]",
      "text/plain": [
       "<Figure size 432x288 with 1 Axes>"
      ]
     },
     "metadata": {},
     "output_type": "display_data"
    },
    {
     "data": {
      "image/png": "[encoded data removed]",
      "text/plain": [
       "<Figure size 432x288 with 1 Axes>"
      ]
     },
     "metadata": {},
     "output_type": "display_data"
    },
    {
     "data": {
      "image/png": "[encoded data removed]",
      "text/plain": [
       "<Figure size 432x288 with 1 Axes>"
      ]
     },
     "metadata": {},
     "output_type": "display_data"
    }
   ],
   "source": [
    "plt.style.use('dark_background')\n",
    "\n",
    "plt.hist(O2[:, 0], 100, color='aqua')\n",
    "plt.hist(O[:1000, 0], 100, color='blue')\n",
    "plt.xlabel('X')\n",
    "plt.ylabel('frequency')\n",
    "plt.grid(False)\n",
    "plt.legend(['Estimated', 'Actual'], loc=1)\n",
    "plt.savefig('ContGauss_x1_est2.png', transparent=True, dpi=600)\n",
    "plt.show()\n",
    "\n",
    "plt.hist(O2[:, 1], 100, color='darkgreen')\n",
    "plt.hist(O[:1000, 1], 100, color='lime')\n",
    "plt.xlabel('X')\n",
    "plt.ylabel('frequency')\n",
    "plt.grid(False)\n",
    "plt.legend(['Estimated', 'Actual'], loc=1)\n",
    "plt.savefig('ContGauss_x2_est2.png', transparent=True, dpi=600)\n",
    "plt.show()\n",
    "\n",
    "plt.hist(O2[:, 2], 100, color='deeppink')\n",
    "plt.hist(O[:1000, 2], 100, color='magenta')\n",
    "plt.xlabel('X')\n",
    "plt.ylabel('frequency')\n",
    "plt.grid(False)\n",
    "plt.legend(['Estimated', 'Actual'], loc=1)\n",
    "plt.savefig('ContGauss_x3_est2.png', transparent=True, dpi=600)\n",
    "plt.show()\n"
   ]
  },
  {
   "cell_type": "code",
   "execution_count": null,
   "metadata": {},
   "outputs": [],
   "source": []
  },
  {
   "cell_type": "code",
   "execution_count": null,
   "metadata": {},
   "outputs": [],
   "source": []
  }
 ],
 "metadata": {
  "kernelspec": {
   "display_name": "Python 3",
   "language": "python",
   "name": "python3"
  },
  "language_info": {
   "codemirror_mode": {
    "name": "ipython",
    "version": 3
   },
   "file_extension": ".py",
   "mimetype": "text/x-python",
   "name": "python",
   "nbconvert_exporter": "python",
   "pygments_lexer": "ipython3",
   "version": "3.8.5"
  }
 },
 "nbformat": 4,
 "nbformat_minor": 4
}
