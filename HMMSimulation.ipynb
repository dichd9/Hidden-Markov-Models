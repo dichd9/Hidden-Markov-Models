{
 "cells": [
  {
   "cell_type": "markdown",
   "metadata": {},
   "source": [
    "## Discrete Output HMM\n",
    "\n",
    "We simulate an HMM, generate some observation data. We make a guess of the actual parameters of the HMM that generated the observation data (though we already know, but just to see the working of EM, we are doing it). We then use EM algorithm to train our guessed HMM. Finally we see the KL divergence between observability and Transition Matrix of the guessed and trained HMMS."
   ]
  },
  {
   "cell_type": "code",
   "execution_count": 4,
   "metadata": {},
   "outputs": [],
   "source": [
    "import numpy as np\n",
    "import random\n",
    "import matplotlib.pyplot as plt"
   ]
  },
  {
   "cell_type": "markdown",
   "metadata": {},
   "source": [
    "State Class"
   ]
  },
  {
   "cell_type": "code",
   "execution_count": 5,
   "metadata": {},
   "outputs": [],
   "source": [
    "class Hstate(object):\n",
    "    \n",
    "    def __init__(self, name='name'):\n",
    "        \n",
    "        self.Name=name\n",
    "        self.comrades={}\n",
    "        self.helpers={}\n",
    "        \n",
    "    def addComrade(self, nam, p):\n",
    "        self.comrades[nam]=p\n",
    "    \n",
    "    def addHelper(self, name, p):\n",
    "        \n",
    "        self.helpers[name]=p"
   ]
  },
  {
   "cell_type": "markdown",
   "metadata": {},
   "source": [
    "HMM class"
   ]
  },
  {
   "cell_type": "code",
   "execution_count": 13,
   "metadata": {},
   "outputs": [],
   "source": [
    "class HMM(object):\n",
    "    \n",
    "    def __init__(self):\n",
    "        \n",
    "        self.States=[]\n",
    "        self.Helpers=[]\n",
    "        self.N=0  #Number of states\n",
    "        self.M=0  #Number of observable symbols\n",
    "        self.A=0  #Transition Matrix\n",
    "        self.B=0  #Observation Matrix\n",
    "        self.p=0  #initial probability\n",
    "        self.t=0  #time\n",
    "        self.c=0  #current state\n",
    "        \n",
    "        \n",
    "    def addHero(self, hero):\n",
    "        \n",
    "        if hero not in self.States:\n",
    "            self.States.append(hero)\n",
    "        \n",
    "    def build(self, p=[]):\n",
    "        \n",
    "        self.t=0\n",
    "        C=self.States.copy()  #Collection of sets\n",
    "        self.N=len(C)       #Number of States\n",
    "        \n",
    "        A=np.zeros([self.N, self.N])\n",
    "        Helpers=[]\n",
    "        \n",
    "        for hero in C:\n",
    "            for j in hero.helpers:\n",
    "                if j not in Helpers:\n",
    "                    Helpers.append(j)\n",
    "                \n",
    "        self.M=len(Helpers)\n",
    "        B=np.zeros([self.N, self.M])\n",
    "\n",
    "        h1=0\n",
    "        for hero in C:\n",
    "            h2=0\n",
    "            for com in hero.comrades:\n",
    "                if h2==h1:\n",
    "                    h2+=1\n",
    "                A[h1, h2]=hero.comrades[com]\n",
    "                h2+=1\n",
    "                \n",
    "            h1+=1\n",
    "        \n",
    "        for j in range(0, self.N):\n",
    "            \n",
    "            s=sum(A[j, :])\n",
    "            A[j, j]=1-s\n",
    "            \n",
    "        self.A=A\n",
    "\n",
    "        h1=0\n",
    "        for hero in C:\n",
    "            h2=0\n",
    "            for helper in Helpers:\n",
    "                if helper not in hero.helpers:\n",
    "                    B[h1, h2]=0\n",
    "                else:\n",
    "                    B[h1, h2]=hero.helpers[helper]\n",
    "                h2+=1\n",
    "            h1+=1\n",
    "            \n",
    "        self.B=B\n",
    "        \n",
    "        self.p=p\n",
    "        \n",
    "        if self.p==[]:\n",
    "            self.p=np.ones(len(C))/len(C)\n",
    "        self.Helpers=Helpers\n",
    "    \n",
    "    def observe(self):\n",
    "        \n",
    "        if self.t==0:\n",
    "            \n",
    "            j=random.choices(range(0, len(self.p)), weights=self.p)[0]\n",
    "            self.c=j\n",
    "        \n",
    "        pnext=self.A[self.c, :]\n",
    "        \n",
    "        k=random.choices(range(0, self.N), weights=pnext)[0]\n",
    "        self.c=k   #Current State\n",
    "        self.t+=1\n",
    "        \n",
    "        #print(self.States[self.c].Name)\n",
    "        \n",
    "        pobserve=self.B[self.c, :]\n",
    "        l=random.choices(range(0, self.M), weights=pobserve)[0]\n",
    "        \n",
    "        return k, l"
   ]
  },
  {
   "cell_type": "markdown",
   "metadata": {},
   "source": [
    "Custom Example inspired by Fairy Tail"
   ]
  },
  {
   "cell_type": "code",
   "execution_count": 14,
   "metadata": {},
   "outputs": [],
   "source": [
    "natsu=Hstate('Natsu')\n",
    "natsu.addComrade('Gray', 0.3)\n",
    "natsu.addHelper('Happy', 0.2)\n",
    "natsu.addHelper('Erza', 0.5)\n",
    "natsu.addHelper('Lucy', 0.3)\n",
    "\n",
    "gray=Hstate('Gray')\n",
    "gray.addComrade('Natsu', 0.4)\n",
    "gray.addHelper('Juvia', 0.3)\n",
    "gray.addHelper('Erza', 0.4)\n",
    "gray.addHelper('Lucy', 0.3)"
   ]
  },
  {
   "cell_type": "code",
   "execution_count": 15,
   "metadata": {},
   "outputs": [],
   "source": [
    "FairyTail=HMM()\n",
    "FairyTail.addHero(natsu)\n",
    "FairyTail.addHero(gray)\n",
    "FairyTail.build()"
   ]
  },
  {
   "cell_type": "code",
   "execution_count": 16,
   "metadata": {},
   "outputs": [
    {
     "name": "stdout",
     "output_type": "stream",
     "text": [
      "Natsu\n",
      "Gray\n",
      "['Happy', 'Erza', 'Lucy', 'Juvia']\n",
      "[[0.7 0.3]\n",
      " [0.4 0.6]]\n",
      "[[0.2 0.5 0.3 0. ]\n",
      " [0.  0.4 0.3 0.3]]\n"
     ]
    }
   ],
   "source": [
    "print(FairyTail.States[0].Name)\n",
    "print(FairyTail.States[1].Name)\n",
    "print(FairyTail.Helpers)\n",
    "print(FairyTail.A)\n",
    "print(FairyTail.B)"
   ]
  },
  {
   "cell_type": "markdown",
   "metadata": {},
   "source": [
    "The FB and Viterbi Algorithms"
   ]
  },
  {
   "cell_type": "code",
   "execution_count": 19,
   "metadata": {},
   "outputs": [],
   "source": [
    "def fb(O, A, B, p):\n",
    "    \n",
    "    T=len(O)   #Time instants\n",
    "    \n",
    "    N, M=np.shape(B)  #N -> number os states, M -> number of obs\n",
    "    α=np.zeros([N, T])\n",
    "    \n",
    "    for i in range(N):\n",
    "        α[i, 0]=p[i]*B[i, O[0]]\n",
    "    \n",
    "    for t in range(1, T):\n",
    "        for j in range(N):\n",
    "            for i in range(N):\n",
    "                α[j, t]+=α[i, t-1]*A[i, j]*B[j, O[t]]\n",
    "    \n",
    "    return α\n",
    "\n",
    "def rb(O, A, B, p):\n",
    "    \n",
    "    T=len(O)   #Time instants\n",
    "    N, M=np.shape(B)  #N -> number os states, M -> number of obs\n",
    "    β=np.zeros([N, T])\n",
    "    \n",
    "    for i in range(N):\n",
    "        β[i, T-1]=1\n",
    "    \n",
    "    for p in range(1, T):\n",
    "        for j in range(N):\n",
    "            for i in range(N):\n",
    "                t=T-p-1\n",
    "                β[j, t]+=β[i, t+1]*A[j, i]*B[i, O[t+1]]\n",
    "    return β\n",
    "\n",
    "\n",
    "def gamma(α, β):\n",
    "\n",
    "    N, T=np.shape(β)  #N -> number os states, M -> number of obs\n",
    "    γ=np.zeros([N, T])\n",
    "    \n",
    "    for t in range(T):\n",
    "        for i in range(N):\n",
    "            s=0\n",
    "            for j in range(N):\n",
    "                s+=α[j, t]*β[j, t]\n",
    "                if j==i:\n",
    "                    γ[i, t]=α[i, t]*β[i, t]\n",
    "            γ[i, t]=γ[i, t]/s\n",
    "            \n",
    "    return γ\n",
    "\n",
    "def Viterbi(O, A, B, p):\n",
    "\n",
    "    T=len(O)   #Time instants\n",
    "    \n",
    "    N, M=np.shape(B)  #N -> number os states, M -> number of obs\n",
    "    \n",
    "    δ=np.zeros([N, T])\n",
    "    Ψ=np.zeros(T)\n",
    "    #initialisation\n",
    "    for i in range(N):\n",
    "        δ[i, 0]=p[i]*B[i, O[0]]\n",
    "\n",
    "    Ψ[0]=int(np.where(δ[:, 0]==np.amax(δ[:, 0]))[0][0])\n",
    "    \n",
    "    #Induction\n",
    "    for t in range(1, T):\n",
    "        for i in range(N):\n",
    "            Temp=[]\n",
    "            for j in range(N):\n",
    "                Temp.append(δ[j, t-1]*A[j, i])\n",
    "            δ[i, t]=max(Temp)*B[i, O[t]]\n",
    "        q=δ[:, t]\n",
    "        Ψ[t]=int(np.where(q==np.amax(q))[0][0])\n",
    "    \n",
    "    return Ψ, δ"
   ]
  },
  {
   "cell_type": "markdown",
   "metadata": {},
   "source": [
    "# EM algorithm"
   ]
  },
  {
   "cell_type": "code",
   "execution_count": 20,
   "metadata": {},
   "outputs": [],
   "source": [
    "def zeta(α, β, A, B, O):\n",
    "    \n",
    "    N, T=α.shape\n",
    "    ξ=np.zeros([N, N, T-1])\n",
    "    \n",
    "    for t in range(T-1):\n",
    "        s=0\n",
    "        for i in range(N):\n",
    "            for j in range(N):\n",
    "                ξ[i, j, t]=α[i, t]*A[i, j]*B[j, O[t+1]]*β[j, t+1]\n",
    "                s+=ξ[i, j, t]\n",
    "        ξ[:, :, t]=ξ[:, :, t]/s\n",
    "        \n",
    "    return ξ"
   ]
  },
  {
   "cell_type": "markdown",
   "metadata": {},
   "source": [
    "Generating Simulation Data"
   ]
  },
  {
   "cell_type": "code",
   "execution_count": 28,
   "metadata": {},
   "outputs": [],
   "source": [
    "#Generate observations\n",
    "O=[]\n",
    "S=[]\n",
    "for i in range(1000):\n",
    "    s, o=FairyTail.observe()\n",
    "    O.append(o)\n",
    "    S.append(s)\n",
    "T=len(O)\n",
    "\n",
    "\n",
    "#Initial guess\n",
    "A=np.array([[0.9, 0.1], [0.25, 0.75]])\n",
    "B=np.array([[0.10, 0.5, 0.4, 0], [0, 0.35, 0.25, 0.4]])\n",
    "p=np.array([0.2, 0.8])"
   ]
  },
  {
   "cell_type": "markdown",
   "metadata": {},
   "source": [
    "Training with EM algirithm"
   ]
  },
  {
   "cell_type": "code",
   "execution_count": 29,
   "metadata": {},
   "outputs": [],
   "source": [
    "def train(A, B, p, O, trials):\n",
    "    \n",
    "    T=len(O)\n",
    "    N, M=B.shape\n",
    "    A=np.array(A)\n",
    "    B=np.array(B)\n",
    "    p=np.array(p)\n",
    "    for trial in range(trials):\n",
    "        \n",
    "        α=fb(O, A, B, p)\n",
    "        β=rb(O, A, B, p)\n",
    "        γ=gamma(α, β)\n",
    "        ξ=zeta(α, β, A, B, O)\n",
    "     \n",
    "        for i in range(N):\n",
    "            for j in range(N):\n",
    "                aij=0\n",
    "                s1=0\n",
    "                s2=0\n",
    "                for t in range(T-1):\n",
    "                    s1+=ξ[i, j, t]\n",
    "                    s2+=γ[i, t]\n",
    "                aij=s1/s2\n",
    "                A[i, j]=aij\n",
    "\n",
    "        for i in range(N):\n",
    "            p[i]=γ[i, 0]\n",
    "            \n",
    "        for j in range(N):\n",
    "            for k in range(M):\n",
    "                b1=0\n",
    "                b2=0\n",
    "                for t in range(T-1):\n",
    "                    b2+=γ[j, t]\n",
    "                    if O[t]==k:\n",
    "                        b1+=γ[j, t]\n",
    "                B[j, k]=b1/b2\n",
    "    \n",
    "    return A, B, p"
   ]
  },
  {
   "cell_type": "code",
   "execution_count": 30,
   "metadata": {},
   "outputs": [],
   "source": [
    "def pol(O, A, B, p):\n",
    "    \n",
    "    #This functions rerturns the Probablity of observations\n",
    "    α=fb(O, A, B, p)\n",
    "    N, M=B.shape\n",
    "    T=len(O)\n",
    "    pol=0\n",
    "    for i in range(N):\n",
    "        pol+=α[i, T-1]\n",
    "    return pol"
   ]
  },
  {
   "cell_type": "markdown",
   "metadata": {},
   "source": [
    "## The Kullback Liberler divergence between actual and trained HMM"
   ]
  },
  {
   "cell_type": "code",
   "execution_count": 31,
   "metadata": {},
   "outputs": [],
   "source": [
    "def kla(A, A2):\n",
    "    \n",
    " \n",
    "    s=0\n",
    "    Ax=A/sum(sum(A))\n",
    "    Ay=A2/sum(sum(A2))\n",
    "    \n",
    "    for i in range(2):\n",
    "        for j in range(2):\n",
    "            \n",
    "            s+=Ax[i, j]*np.log(Ax[i, j]/Ay[i, j])\n",
    "            \n",
    "    return s\n",
    "\n",
    "def klb(B, B2):\n",
    "    \n",
    "    s=0\n",
    "    Bx=B/sum(sum(B))\n",
    "    By=B2/sum(sum(B2))\n",
    "    for i in range(2):\n",
    "        for j in range(4):\n",
    "            if By[i, j]!=0:\n",
    "                \n",
    "                s+=Bx[i, j]*np.log(Bx[i, j]/By[i, j])\n",
    "            \n",
    "    return s\n",
    "\n",
    "def klp(p, p2):\n",
    "    \n",
    "    s=0\n",
    "    \n",
    "    for i in range(2):\n",
    "        \n",
    "        if p2[i]>0 and p[i]>0:\n",
    "            \n",
    "            s+=p[i]*np.log(p[i]/p2[i])\n",
    "            \n",
    "    return s"
   ]
  },
  {
   "cell_type": "code",
   "execution_count": 32,
   "metadata": {},
   "outputs": [],
   "source": [
    "KLA=[]\n",
    "KLB=[]\n",
    "KLp=[]\n",
    "A2=A\n",
    "B2=B\n",
    "p2=p\n",
    "for i in range(10):\n",
    "    \n",
    "    KLA.append(kla(A2, FairyTail.A))\n",
    "    KLB.append(klb(B2, FairyTail.B))\n",
    "    KLp.append(klp(p2, FairyTail.p))\n",
    "    \n",
    "    A2, B2, p2=train(A2, B2, p2, O[:200], 1)\n",
    "    "
   ]
  },
  {
   "cell_type": "code",
   "execution_count": 38,
   "metadata": {},
   "outputs": [
    {
     "data": {
      "image/png": "[encoded data removed]",
      "text/plain": [
       "<Figure size 432x288 with 1 Axes>"
      ]
     },
     "metadata": {
      "needs_background": "light"
     },
     "output_type": "display_data"
    }
   ],
   "source": [
    "plt.plot(KLA)\n",
    "plt.plot(KLB)\n",
    "plt.legend(['Transisition Matrix', 'Observability Matrix'])\n",
    "plt.title('KL Divergence between trained and actual')\n",
    "plt.xlabel('Iterations')\n",
    "plt.show()"
   ]
  },
  {
   "cell_type": "code",
   "execution_count": null,
   "metadata": {},
   "outputs": [],
   "source": []
  },
  {
   "cell_type": "code",
   "execution_count": null,
   "metadata": {},
   "outputs": [],
   "source": []
  }
 ],
 "metadata": {
  "kernelspec": {
   "display_name": "Python 3",
   "language": "python",
   "name": "python3"
  },
  "language_info": {
   "codemirror_mode": {
    "name": "ipython",
    "version": 3
   },
   "file_extension": ".py",
   "mimetype": "text/x-python",
   "name": "python",
   "nbconvert_exporter": "python",
   "pygments_lexer": "ipython3",
   "version": "3.8.5"
  }
 },
 "nbformat": 4,
 "nbformat_minor": 4
}
